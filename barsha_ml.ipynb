{
  "nbformat": 4,
  "nbformat_minor": 0,
  "metadata": {
    "colab": {
      "provenance": [],
      "authorship_tag": "ABX9TyPAoGUIcZK/RGPwzzHqotu1",
      "include_colab_link": true
    },
    "kernelspec": {
      "name": "python3",
      "display_name": "Python 3"
    },
    "language_info": {
      "name": "python"
    }
  },
  "cells": [
    {
      "cell_type": "markdown",
      "metadata": {
        "id": "view-in-github",
        "colab_type": "text"
      },
      "source": [
        "<a href=\"https://colab.research.google.com/github/barsha0518/barsha-_ML_1st_lab_assignment/blob/main/barsha_ml.ipynb\" target=\"_parent\"><img src=\"https://colab.research.google.com/assets/colab-badge.svg\" alt=\"Open In Colab\"/></a>"
      ]
    },
    {
      "cell_type": "markdown",
      "source": [
        "QUESTION NO.1"
      ],
      "metadata": {
        "id": "0lWtMu6Xtmd4"
      }
    },
    {
      "cell_type": "code",
      "execution_count": null,
      "metadata": {
        "colab": {
          "base_uri": "https://localhost:8080/"
        },
        "id": "aUCOLHh6qv8O",
        "outputId": "37a6f105-3670-43ab-e615-c1cb1d8ed49f"
      },
      "outputs": [
        {
          "output_type": "stream",
          "name": "stdout",
          "text": [
            "final array [5 4 6 3 2 1]\n"
          ]
        }
      ],
      "source": [
        "import numpy as np\n",
        "arr = np.array([1, 2, 3, 6, 4, 5])\n",
        "res = np.flip(arr)\n",
        "print(\"final array\", str(res))"
      ]
    },
    {
      "cell_type": "code",
      "source": [
        "import numpy as np\n",
        "array1=np.array([[1,2,3],[2,4,5],[1,2,3]])\n",
        "flat_arr = array1.flatten()\n",
        "print(flat_arr)"
      ],
      "metadata": {
        "colab": {
          "base_uri": "https://localhost:8080/"
        },
        "id": "2uXua6wytsCy",
        "outputId": "e2dc2c2d-b0fd-4a3c-d86a-05dd9180f6d7"
      },
      "execution_count": null,
      "outputs": [
        {
          "output_type": "stream",
          "name": "stdout",
          "text": [
            "[1 2 3 2 4 5 1 2 3]\n"
          ]
        }
      ]
    },
    {
      "cell_type": "code",
      "source": [
        "import numpy as np\n",
        "arr1 = np.array([[1,2],[3,4]])\n",
        "arr2 = np.array([[1,2],[3,4]])\n",
        "comparison = arr1 == arr2\n",
        "equal_arrays = comparison.all()\n",
        "print(equal_arrays)\n",
        "\n"
      ],
      "metadata": {
        "id": "e3dt1hezviJ-",
        "colab": {
          "base_uri": "https://localhost:8080/"
        },
        "outputId": "96bad2d4-354c-423a-c90a-d0628e13b1ec"
      },
      "execution_count": null,
      "outputs": [
        {
          "output_type": "stream",
          "name": "stdout",
          "text": [
            "True\n"
          ]
        }
      ]
    },
    {
      "cell_type": "code",
      "source": [
        "import numpy as np\n",
        "x= np.array([1,2,3,4,5,1,2,1,1,1])\n",
        "print(\"Original array:\")\n",
        "print(x)\n",
        "\n",
        "print(\"Most frequent value in the above array:\")\n",
        "print(np.bincount(x).argmax())\n",
        "\n"
      ],
      "metadata": {
        "id": "0SgYWN-bxJF0",
        "colab": {
          "base_uri": "https://localhost:8080/"
        },
        "outputId": "86938041-864a-4aea-986c-6550d5d426d5"
      },
      "execution_count": null,
      "outputs": [
        {
          "output_type": "stream",
          "name": "stdout",
          "text": [
            "Original array:\n",
            "[1 2 3 4 5 1 2 1 1 1]\n",
            "Most frequent value in the above array:\n",
            "1\n"
          ]
        }
      ]
    },
    {
      "cell_type": "code",
      "source": [
        "import numpy as np\n",
        "y=np.array([1,1,1,2,3,4,22,4,3,3])\n",
        "print(\"Original array:\")\n",
        "print(y)\n",
        "\n",
        "print(\"Most frequent value in the above array:\")\n",
        "print(np.bincount(x).argmax())"
      ],
      "metadata": {
        "colab": {
          "base_uri": "https://localhost:8080/"
        },
        "id": "2l8cp3cVfr37",
        "outputId": "fae023bf-c809-432f-b233-b33185e31450"
      },
      "execution_count": null,
      "outputs": [
        {
          "output_type": "stream",
          "name": "stdout",
          "text": [
            "Original array:\n",
            "[ 1  1  1  2  3  4 22  4  3  3]\n",
            "Most frequent value in the above array:\n",
            "1\n"
          ]
        }
      ]
    },
    {
      "cell_type": "code",
      "source": [
        "import numpy as np\n",
        "\n",
        "gfg = np.matrix('[4, 1, 9; 12, 3, 1; 4, 5, 6]')\n",
        "\n",
        "sum_all_elements = np.sum(gfg)\n",
        "\n",
        "sum_row_wise = np.sum(gfg, axis=1)\n",
        "\n",
        "sum_column_wise = np.sum(gfg, axis=0)\n",
        "\n",
        "sum_all_elements, sum_row_wise, sum_column_wise\n"
      ],
      "metadata": {
        "colab": {
          "base_uri": "https://localhost:8080/"
        },
        "id": "1Aw4noWjg2Ma",
        "outputId": "c763a6d4-e55b-4db7-df5c-4503f5b45622"
      },
      "execution_count": null,
      "outputs": [
        {
          "output_type": "execute_result",
          "data": {
            "text/plain": [
              "(45,\n",
              " matrix([[14],\n",
              "         [16],\n",
              "         [15]]),\n",
              " matrix([[20,  9, 16]]))"
            ]
          },
          "metadata": {},
          "execution_count": 26
        }
      ]
    },
    {
      "cell_type": "code",
      "source": [
        "import numpy as np\n",
        "n_array = np.array([[55,25,15],[30,44,2],[11,45,77]])\n",
        "trace = np.trace(n_array)\n",
        "\n",
        "\n",
        "print(\"sum of diagonal elements of given  matrix:\")\n",
        "print(trace)\n",
        "w, v = np.linalg.eig(n_array)\n",
        "\n",
        "print(\"Printing the Eigen values of the given square array:\\n\",\n",
        "      w)\n",
        "\n",
        "print(\"Printing Right eigenvectors of the given square array:\\n\",\n",
        "      v)\n",
        "print(\"inverse of the matrix\",np.linalg.inv(n_array))\n",
        "det = np.linalg.det(n_array)\n",
        "\n",
        "print(\"\\nDeterminant of given  matrix:\")\n",
        "print(int(det))"
      ],
      "metadata": {
        "colab": {
          "base_uri": "https://localhost:8080/"
        },
        "id": "hRneh-98QLA2",
        "outputId": "edac529b-d235-421e-f85e-4f02317cc2e0"
      },
      "execution_count": null,
      "outputs": [
        {
          "output_type": "stream",
          "name": "stdout",
          "text": [
            "sum of diagonal elements of given  matrix:\n",
            "176\n",
            "Printing the Eigen values of the given square array:\n",
            " [98.16835147 28.097044   49.73460452]\n",
            "Printing Right eigenvectors of the given square array:\n",
            " [[ 0.4574917   0.34637121 -0.15017693]\n",
            " [ 0.28447814 -0.72784061 -0.4852124 ]\n",
            " [ 0.84248058  0.59184038  0.8614034 ]]\n",
            "inverse of the matrix [[ 0.02404141 -0.00911212 -0.00444671]\n",
            " [-0.01667882  0.02966905  0.0024785 ]\n",
            " [ 0.00631287 -0.01603732  0.01217379]]\n",
            "\n",
            "Determinant of given  matrix:\n",
            "137180\n"
          ]
        }
      ]
    },
    {
      "cell_type": "code",
      "source": [
        "import numpy as np\n",
        "p = [[1,2],[2,3]]\n",
        "q=[[4,5],[6,7]]\n",
        "res = np.dot(p,q)\n",
        "print(res)\n",
        "print(\"convaruance\",np.cov(p, q))"
      ],
      "metadata": {
        "colab": {
          "base_uri": "https://localhost:8080/"
        },
        "id": "5oDgYEYwStHe",
        "outputId": "7d04171f-5471-4309-f661-c4024951f4d0"
      },
      "execution_count": null,
      "outputs": [
        {
          "output_type": "stream",
          "name": "stdout",
          "text": [
            "[[16 19]\n",
            " [26 31]]\n",
            "convaruance [[0.5 0.5 0.5 0.5]\n",
            " [0.5 0.5 0.5 0.5]\n",
            " [0.5 0.5 0.5 0.5]\n",
            " [0.5 0.5 0.5 0.5]]\n"
          ]
        }
      ]
    },
    {
      "cell_type": "code",
      "source": [
        "import numpy as np\n",
        "p = [[1, 2], [2, 3], [4, 5]]\n",
        "q = [[4, 5, 1], [6, 7, 2]]\n",
        "res = np.dot(p,q)\n",
        "print(res)\n",
        "print(\"convaruance\",np.cov(p, q))\n",
        "\n"
      ],
      "metadata": {
        "colab": {
          "base_uri": "https://localhost:8080/"
        },
        "id": "LemLOaRPUI8d",
        "outputId": "4a6e2594-8a49-4737-9e1b-f9e9c7e10cb7"
      },
      "execution_count": null,
      "outputs": [
        {
          "output_type": "stream",
          "name": "stdout",
          "text": [
            "[[16 19  5]\n",
            " [26 31  8]\n",
            " [46 55 14]]\n"
          ]
        }
      ]
    },
    {
      "cell_type": "code",
      "source": [
        "import numpy as np\n",
        "x = np.array([[2, 3, 4], [3, 2, 9]])\n",
        "y = np.array([[1, 5, 0], [5, 10, 3]])\n",
        "print(\"\\nInner product of matrices x and y =\")\n",
        "print(np.inner(x, y))\n",
        "print(\"\\nOuter product of matrices x and y =\")\n",
        "print(np.outer(x, y))\n",
        "print(\"\\nCross product of matrices x and y =\")\n",
        "print(np.cross(x, y))"
      ],
      "metadata": {
        "colab": {
          "base_uri": "https://localhost:8080/"
        },
        "id": "dOSGhbhgUeya",
        "outputId": "a91bf872-8bb5-4349-f128-e958a0775ec0"
      },
      "execution_count": null,
      "outputs": [
        {
          "output_type": "stream",
          "name": "stdout",
          "text": [
            "\n",
            "Inner product of matrices x and y =\n",
            "[[17 52]\n",
            " [13 62]]\n",
            "\n",
            "Outer product of matrices x and y =\n",
            "[[ 2 10  0 10 20  6]\n",
            " [ 3 15  0 15 30  9]\n",
            " [ 4 20  0 20 40 12]\n",
            " [ 3 15  0 15 30  9]\n",
            " [ 2 10  0 10 20  6]\n",
            " [ 9 45  0 45 90 27]]\n",
            "\n",
            "Cross product of matrices x and y =\n",
            "[[-20   4   7]\n",
            " [-84  36  20]]\n"
          ]
        }
      ]
    },
    {
      "cell_type": "markdown",
      "source": [
        "ques 2"
      ],
      "metadata": {
        "id": "H-dVHq2wloGD"
      }
    },
    {
      "cell_type": "code",
      "source": [
        "import numpy as np\n",
        "\n",
        "\n",
        "array = np.array([[1, -2, 3], [-4, 5, -6]])\n",
        "\n",
        "abs_array = np.abs(array)\n",
        "\n",
        "\n",
        "flattened_array = array.flatten()\n",
        "percentiles_flattened = np.percentile(flattened_array, [25, 50, 75])\n",
        "\n",
        "percentiles_columns = np.percentile(array, [25, 50, 75], axis=0)\n",
        "\n",
        "percentiles_rows = np.percentile(array, [25, 50, 75], axis=1)\n",
        "\n",
        "mean_flattened = np.mean(flattened_array)\n",
        "median_flattened = np.median(flattened_array)\n",
        "std_flattened = np.std(flattened_array)\n",
        "\n",
        "mean_columns = np.mean(array, axis=0)\n",
        "median_columns = np.median(array, axis=0)\n",
        "std_columns = np.std(array, axis=0)\n",
        "\n",
        "\n",
        "mean_rows = np.mean(array, axis=1)\n",
        "median_rows = np.median(array, axis=1)\n",
        "std_rows = np.std(array, axis=1)\n",
        "\n",
        "\n",
        "print(\"Element-wise absolute value:\\n\", abs_array)\n",
        "\n",
        "print(\"Percentiles of flattened array (25th, 50th, 75th):\", percentiles_flattened)\n",
        "print(\"Percentiles for each column (25th, 50th, 75th):\\n\", percentiles_columns)\n",
        "print(\"Percentiles for each row (25th, 50th, 75th):\\n\", percentiles_rows)\n",
        "\n",
        "print(\"Mean, Median, Standard Deviation of flattened array:\")\n",
        "print(\"Mean:\", mean_flattened)\n",
        "print(\"Median:\", median_flattened)\n",
        "print(\"Standard Deviation:\", std_flattened)\n",
        "\n",
        "print(\"Median, Standard Deviation for each column:\")\n",
        "print(\"Mean:\", mean_columns)\n",
        "print(\"Median:\", median_columns)\n",
        "print(\"Standard Deviation:\", std_columns)\n",
        "\n",
        "print(\"Median, Standard Deviation for each row:\")\n",
        "print(\"Mean:\", mean_rows)\n",
        "print(\"Median:\", median_rows)\n",
        "print(\"Standard Deviation:\", std_rows)\n"
      ],
      "metadata": {
        "colab": {
          "base_uri": "https://localhost:8080/"
        },
        "id": "sVSqpUcjXhRD",
        "outputId": "2772eeed-cb4a-46fc-e118-5355d4b98d0d"
      },
      "execution_count": null,
      "outputs": [
        {
          "output_type": "stream",
          "name": "stdout",
          "text": [
            "i. Element-wise absolute value:\n",
            " [[1 2 3]\n",
            " [4 5 6]]\n",
            "\n",
            "ii. Percentiles of flattened array (25th, 50th, 75th): [-3.5 -0.5  2.5]\n",
            "Percentiles for each column (25th, 50th, 75th):\n",
            " [[-2.75 -0.25 -3.75]\n",
            " [-1.5   1.5  -1.5 ]\n",
            " [-0.25  3.25  0.75]]\n",
            "Percentiles for each row (25th, 50th, 75th):\n",
            " [[-0.5 -5. ]\n",
            " [ 1.  -4. ]\n",
            " [ 2.   0.5]]\n",
            "\n",
            "iii. Mean, Median, Standard Deviation of flattened array:\n",
            "Mean: -0.5\n",
            "Median: -0.5\n",
            "Standard Deviation: 3.8622100754188224\n",
            "\n",
            "Mean, Median, Standard Deviation for each column:\n",
            "Mean: [-1.5  1.5 -1.5]\n",
            "Median: [-1.5  1.5 -1.5]\n",
            "Standard Deviation: [2.5 3.5 4.5]\n",
            "\n",
            "Mean, Median, Standard Deviation for each row:\n",
            "Mean: [ 0.66666667 -1.66666667]\n",
            "Median: [ 1. -4.]\n",
            "Standard Deviation: [2.05480467 4.78423336]\n"
          ]
        }
      ]
    },
    {
      "cell_type": "code",
      "source": [
        "import numpy as np\n",
        "a= np.array([-1.8,-1.6,-0.5,1.6,1.8,3.0])\n",
        "floor_values= np.floor(a)\n",
        "print(\"floor value\",floor_values)\n",
        "ceiling_value = np.ceil(a)\n",
        "print(\"ceiling value\",ceiling_value)\n",
        "truncated_value= np.trunc(a)\n",
        "print(\"truncated value\",truncated_value)\n",
        "rounded_values= np.round(a)\n",
        "print(\"rounded value\",rounded_values)"
      ],
      "metadata": {
        "colab": {
          "base_uri": "https://localhost:8080/"
        },
        "id": "xFr99fwvYEDX",
        "outputId": "c67b206d-2ea4-4784-fda1-98ea29ff3537"
      },
      "execution_count": null,
      "outputs": [
        {
          "output_type": "stream",
          "name": "stdout",
          "text": [
            "floor value [-2. -2. -1.  1.  1.  3.]\n",
            "ceiling value [-1. -1. -0.  2.  2.  3.]\n",
            "truncated value [-1. -1. -0.  1.  1.  3.]\n",
            "rounded value [-2. -2. -0.  2.  2.  3.]\n"
          ]
        }
      ]
    },
    {
      "cell_type": "markdown",
      "source": [
        "QUES 3"
      ],
      "metadata": {
        "id": "Q5tyWySyZ8Fy"
      }
    },
    {
      "cell_type": "code",
      "source": [
        "import numpy as np\n",
        "array = np.array([10, 52, 62, 16, 16, 54, 453])\n",
        "print(array)\n",
        "sorted_array = np.sort(array)\n",
        "print(\" Sorted array:\", sorted_array)\n",
        "\n",
        "sorted_indices = np.argsort(array)\n",
        "print(\"Indices of sorted array:\", sorted_indices)\n",
        "\n",
        "four_smallest = np.partition(array, 4)[:4]\n",
        "four_smallest_sorted = np.sort(four_smallest)\n",
        "print(\"Four smallest values:\", four_smallest_sorted)\n",
        "\n",
        "five_largest = np.partition(array, -5)[-5:]\n",
        "five_largest_sorted = np.sort(five_largest)[::-1]\n",
        "print(\"Five largest values:\", five_largest_sorted)\n",
        "\n"
      ],
      "metadata": {
        "colab": {
          "base_uri": "https://localhost:8080/"
        },
        "id": "LNWbuFl6Z7k2",
        "outputId": "68dde7cd-7c30-4b99-d2bb-b8b127bbf09e"
      },
      "execution_count": null,
      "outputs": [
        {
          "output_type": "stream",
          "name": "stdout",
          "text": [
            "[ 10  52  62  16  16  54 453]\n",
            " Sorted array: [ 10  16  16  52  54  62 453]\n",
            "Indices of sorted array: [0 3 4 1 5 2 6]\n",
            "Four smallest values: [10 16 16 52]\n",
            "Five largest values: [453  62  54  52  16]\n"
          ]
        }
      ]
    },
    {
      "cell_type": "code",
      "source": [
        "import numpy as np\n",
        "array = np.array([1.0,1.2,2.2,2.0,3.0,2.0])\n",
        "print(array)\n",
        "integer_elements = array[array == np.floor(array)]\n",
        "float_elements = array[array != np.floor(array)]\n",
        "print(\"i. Integer elements only:\", integer_elements)\n",
        "print(\"ii. Float elements only:\", float_elements)\n"
      ],
      "metadata": {
        "colab": {
          "base_uri": "https://localhost:8080/"
        },
        "id": "q1gjSreacpPV",
        "outputId": "6065b332-4465-4989-e30b-c45439b0785a"
      },
      "execution_count": null,
      "outputs": [
        {
          "output_type": "stream",
          "name": "stdout",
          "text": [
            "[1.  1.2 2.2 2.  3.  2. ]\n",
            "i. Integer elements only: [1. 2. 3. 2.]\n",
            "ii. Float elements only: [1.2 2.2]\n"
          ]
        }
      ]
    },
    {
      "cell_type": "markdown",
      "source": [
        "QUES 4"
      ],
      "metadata": {
        "id": "UQd3Vc8NdaM4"
      }
    },
    {
      "cell_type": "code",
      "source": [
        "import numpy as np"
      ],
      "metadata": {
        "id": "XmaD2GkvlQOy"
      },
      "execution_count": null,
      "outputs": []
    },
    {
      "cell_type": "code",
      "source": [
        "from PIL import Image\n",
        "import numpy as np\n",
        "import matplotlib.pyplot as plt\n",
        "import os\n",
        "\n",
        "def img_to_array(path):\n",
        "    try:\n",
        "        # Load the image\n",
        "        img = Image.open(path)\n",
        "\n",
        "        # Convert the image to a NumPy array\n",
        "        img_array = np.array(img)\n",
        "\n",
        "        # Determine the file name for the text file\n",
        "        text_file_path = path.rsplit('.', 1)[0] + '.txt'\n",
        "\n",
        "        # Check if the image is grayscale or RGB\n",
        "        if len(img_array.shape) == 2:  # Grayscale image\n",
        "            # Save grayscale image array to text file\n",
        "            np.savetxt(text_file_path, img_array, fmt='%d')\n",
        "        elif len(img_array.shape) == 3 and img_array.shape[2] == 3:  # RGB image\n",
        "            # Save RGB image array to text file\n",
        "            np.savetxt(text_file_path, img_array.reshape(-1, 3), fmt='%d')\n",
        "        else:\n",
        "            raise ValueError(\"Unsupported image format\")\n",
        "\n",
        "        print(f\"Image array saved to {text_file_path}\")\n",
        "        return text_file_path\n",
        "    except FileNotFoundError:\n",
        "        print(f\"File not found: {path}\")\n",
        "    except IOError as e:\n",
        "        print(f\"IOError: {e}\")\n",
        "    except Exception as e:\n",
        "        print(f\"An error occurred: {e}\")\n",
        "def load_and_display_image(text_file_path):\n",
        "    try:\n",
        "\n",
        "        img_array = np.genfromtxt(text_file_path, dtype=int)\n",
        "\n",
        "        if img_array.ndim == 2:\n",
        "            plt.imshow(img_array, cmap='gray')\n",
        "        elif img_array.ndim == 1 and img_array.size % 3 == 0:\n",
        "            height = int(np.sqrt(img_array.size // 3))\n",
        "            img_array = img_array.reshape((height, height, 3))\n",
        "            plt.imshow(img_array)\n",
        "        else:\n",
        "            raise ValueError(\"Unsupported image format or text file contents\")\n",
        "\n",
        "        plt.axis('off')\n",
        "        plt.show()\n",
        "    except FileNotFoundError:\n",
        "        print(f\"File not found: {text_file_path}\")\n",
        "    except IOError as e:\n",
        "        print(f\"IOError: {e}\")\n",
        "    except Exception as e:\n",
        "        print(f\"An error occurred: {e}\")\n",
        "\n",
        "\n",
        "image_path = 'path_to_your_image.jpg'\n",
        "text_file_path = img_to_array(image_path)\n",
        "if text_file_path:\n",
        "    load_and_display_image(text_file_path)\n"
      ],
      "metadata": {
        "colab": {
          "base_uri": "https://localhost:8080/"
        },
        "id": "FAaAki-2olRK",
        "outputId": "b37d760e-50c8-4a6d-c83d-73e78736bd88"
      },
      "execution_count": null,
      "outputs": [
        {
          "output_type": "stream",
          "name": "stdout",
          "text": [
            "File not found: path_to_your_image.jpg\n"
          ]
        }
      ]
    }
  ]
}